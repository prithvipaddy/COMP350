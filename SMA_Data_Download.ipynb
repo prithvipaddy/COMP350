{
  "nbformat": 4,
  "nbformat_minor": 0,
  "metadata": {
    "colab": {
      "provenance": []
    },
    "kernelspec": {
      "name": "python3",
      "display_name": "Python 3"
    },
    "language_info": {
      "name": "python"
    }
  },
  "cells": [
    {
      "cell_type": "code",
      "execution_count": 9,
      "metadata": {
        "id": "o2N8EvkGsxVu"
      },
      "outputs": [],
      "source": [
        "#Libraries\n",
        "import yfinance as yf\n",
        "import pandas as pd\n",
        "import matplotlib.pyplot as plt\n",
        "import numpy as np"
      ]
    },
    {
      "cell_type": "markdown",
      "source": [
        "##### yfinance is a popular open source library developed by Ran Aroussi as a means to access the financial data available on Yahoo Finance.\n",
        "\n",
        "\n",
        "\n",
        "\n"
      ],
      "metadata": {
        "id": "vraRzU9qoE2p"
      }
    },
    {
      "cell_type": "markdown",
      "source": [
        "# Downloading the Dataset\n",
        "\n",
        "*   Convert to csv\n",
        "*  Convert Date to Datetime\n",
        "\n",
        "*   Other Basic Cleaning\n",
        "\n",
        "\n"
      ],
      "metadata": {
        "id": "1zgYIqgVoIMg"
      }
    },
    {
      "cell_type": "code",
      "source": [
        "# Create a Ticker object for the S&P 500 index (^GSPC) using the Yahoo Finance API\n",
        "sp500 = yf.Ticker(\"^GSPC\")\n",
        "\n",
        "# Retrieve historical market data for the S&P 500 index from Yahoo Finance, covering the maximum available period\n",
        "# The period parameter specifies the timeframe for which historical data is requested. Here, \"max\" indicates\n",
        "# that data for the maximum available period will be retrieved.\n",
        "sp500 = sp500.history(period=\"max\")\n",
        "\n",
        "\n",
        "# Doownload it as a CSV file\n",
        "\n",
        "sp500 = sp500.to_csv(\"stock_market_data.csv\")\n",
        "\n",
        "# Load the stock market data from a CSV file into a pandas DataFrame\n",
        "sp500_downloaded = pd.read_csv(\"stock_market_data.csv\", index_col=0)\n",
        "\n",
        "# Convert the index of the DataFrame to datetime format\n",
        "sp500_downloaded.index = pd.to_datetime(sp500_downloaded.index)\n",
        "\n",
        "# Explanation:\n",
        "# 1. pd.read_csv(\"stock_market_data.csv\", index_col=0): This line reads the data from a CSV file named \"stock_market_data.csv\"\n",
        "#    into a pandas DataFrame. It sets the first column of the CSV file as the index of the DataFrame.\n",
        "\n",
        "# 2. pd.to_datetime(sp500.index): This line converts the index of the DataFrame to datetime format. This is useful if the index\n",
        "#    represents dates or timestamps in a string format and we want to perform datetime operations on them. By converting them\n",
        "#    to datetime format, we enable functionalities like date-based slicing, resampling, and plotting in pandas."
      ],
      "metadata": {
        "id": "ElZL9pidnIrq"
      },
      "execution_count": 11,
      "outputs": []
    }
  ]
}